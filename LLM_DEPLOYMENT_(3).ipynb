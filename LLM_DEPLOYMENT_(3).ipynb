{
  "nbformat": 4,
  "nbformat_minor": 0,
  "metadata": {
    "colab": {
      "provenance": [],
      "include_colab_link": true
    },
    "kernelspec": {
      "name": "python3",
      "display_name": "Python 3"
    },
    "language_info": {
      "name": "python"
    }
  },
  "cells": [
    {
      "cell_type": "markdown",
      "metadata": {
        "id": "view-in-github",
        "colab_type": "text"
      },
      "source": [
        "<a href=\"https://colab.research.google.com/github/Shyla-7-Blessy/sfl/blob/main/LLM_DEPLOYMENT_(3).ipynb\" target=\"_parent\"><img src=\"https://colab.research.google.com/assets/colab-badge.svg\" alt=\"Open In Colab\"/></a>"
      ]
    },
    {
      "cell_type": "markdown",
      "source": [
        "# **MODEL DEPLOYMENT**"
      ],
      "metadata": {
        "id": "JNNDkCkEkjhK"
      }
    },
    {
      "cell_type": "code",
      "execution_count": null,
      "metadata": {
        "id": "59Y_i0f1e7k9"
      },
      "outputs": [],
      "source": [
        "from transformers import BertTokenizer, BertForSequenceClassification\n",
        "import torch\n",
        "from torch.utils.data import DataLoader, TensorDataset\n",
        "\n",
        "# Load and preprocess your dataset\n",
        "# ...\n",
        "\n",
        "# Fine-tune BERT for ranking\n",
        "# ...\n",
        "\n",
        "# Save the trained model\n",
        "model.save_pretrained(\"resume_ranking_model\")"
      ]
    },
    {
      "cell_type": "code",
      "source": [
        "from transformers import pipeline\n",
        "\n",
        "qa_model = pipeline(\"question-answering\", model=\"bert-large-uncased-whole-word-masking-finetuned-squad\")\n",
        "\n",
        "# Process candidate resume and answer questions\n",
        "def answer_question(question, resume_text):\n",
        "    answer = qa_model(question=question, context=resume_text)\n",
        "    return answer['answer']"
      ],
      "metadata": {
        "id": "UDuK0kIfkS1m"
      },
      "execution_count": null,
      "outputs": []
    },
    {
      "cell_type": "code",
      "source": [
        "import spacy\n",
        "\n",
        "nlp = spacy.load(\"en_core_web_sm\")\n",
        "\n",
        "# Process resume text with spaCy and extract skills\n",
        "def extract_skills(resume_text):\n",
        "    doc = nlp(resume_text)\n",
        "    skills = [ent.text for ent in doc.ents if ent.label_ in ['ORG', 'TECH']]\n",
        "    return skills"
      ],
      "metadata": {
        "id": "e1J6_gqukS4_"
      },
      "execution_count": null,
      "outputs": []
    },
    {
      "cell_type": "code",
      "source": [
        "from flask import Flask, request, render_template\n",
        "\n",
        "app = Flask(_name_)\n",
        "\n",
        "# Load models and functions\n",
        "# ...\n",
        "\n",
        "@app.route('/')\n",
        "def home():\n",
        "    return render_template('index.html')\n",
        "\n",
        "@app.route('/rank_resume', methods=['POST'])\n",
        "def rank_resume():\n",
        "    # Resume ranking logic\n",
        "    # ...\n",
        "\n",
        "@app.route('/qa_candidate', methods=['POST'])\n",
        "def qa_candidate():\n",
        "    # Q&A logic\n",
        "    # ...\n",
        "\n",
        "@app.route('/extract_skills', methods=['POST'])\n",
        "def extract_skills():\n",
        "    # Skill extraction logic\n",
        "    # ...\n",
        "\n",
        "if _name_ == '_main_':\n",
        "    app.run(debug=True)"
      ],
      "metadata": {
        "id": "DvA9c3jUkbEA"
      },
      "execution_count": null,
      "outputs": []
    }
  ]
}